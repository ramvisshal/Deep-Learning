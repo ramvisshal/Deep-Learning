{
  "cells": [
    {
      "cell_type": "code",
      "source": [
        "import numpy as np\n",
        "\n",
        "if len(y_test.shape) > 1 and y_test.shape[1] > 1:\n",
        "    y_test_labels = np.argmax(y_test, axis=1)\n",
        "else:\n",
        "    y_test_labels = y_test\n",
        "test_digits = [7, 3, 8, 1]\n",
        "test_indices = []\n",
        "\n",
        "for digit in test_digits:\n",
        "    idx = np.where(y_test_labels == digit)[0][0]\n",
        "    test_indices.append(idx)\n",
        "\n",
        "print(f\"Testing digits at indices: {test_indices}\")\n",
        "\n",
        "print(\"Input Digit | Expected Label | Model Output | Correct (Y/N)\")\n",
        "for idx in test_indices:\n",
        "    img = X_test[idx].reshape(1, 28, 28, 1)\n",
        "    prediction = model.predict(img)\n",
        "    pred_label = np.argmax(prediction)\n",
        "    expected_label = y_test_labels[idx]\n",
        "    correct = \"Y\" if pred_label == expected_label else \"N\"\n",
        "\n",
        "    print(f\"     {expected_label}     |       {expected_label}      |      {pred_label}     |    {correct}\")\n"
      ],
      "metadata": {
        "colab": {
          "base_uri": "https://localhost:8080/"
        },
        "id": "0upVazFH6h9y",
        "outputId": "17df38f3-5312-4266-aaa6-e57815e0091e"
      },
      "execution_count": 5,
      "outputs": [
        {
          "output_type": "stream",
          "name": "stdout",
          "text": [
            "Testing digits at indices: [np.int64(9), np.int64(13), np.int64(18), np.int64(2)]\n",
            "Input Digit | Expected Label | Model Output | Correct (Y/N)\n",
            "\u001b[1m1/1\u001b[0m \u001b[32m━━━━━━━━━━━━━━━━━━━━\u001b[0m\u001b[37m\u001b[0m \u001b[1m0s\u001b[0m 106ms/step\n",
            "     7     |       7      |      7     |    Y\n",
            "\u001b[1m1/1\u001b[0m \u001b[32m━━━━━━━━━━━━━━━━━━━━\u001b[0m\u001b[37m\u001b[0m \u001b[1m0s\u001b[0m 53ms/step\n",
            "     3     |       3      |      3     |    Y\n",
            "\u001b[1m1/1\u001b[0m \u001b[32m━━━━━━━━━━━━━━━━━━━━\u001b[0m\u001b[37m\u001b[0m \u001b[1m0s\u001b[0m 57ms/step\n",
            "     8     |       8      |      8     |    Y\n",
            "\u001b[1m1/1\u001b[0m \u001b[32m━━━━━━━━━━━━━━━━━━━━\u001b[0m\u001b[37m\u001b[0m \u001b[1m0s\u001b[0m 55ms/step\n",
            "     1     |       1      |      1     |    Y\n"
          ]
        }
      ]
    }
  ],
  "metadata": {
    "colab": {
      "provenance": []
    },
    "kernelspec": {
      "display_name": "Python 3",
      "name": "python3"
    },
    "language_info": {
      "name": "python"
    }
  },
  "nbformat": 4,
  "nbformat_minor": 0
}